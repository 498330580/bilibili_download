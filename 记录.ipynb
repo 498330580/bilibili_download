{
 "cells": [
  {
   "cell_type": "code",
   "execution_count": 31,
   "metadata": {},
   "outputs": [
    {
     "name": "stdout",
     "output_type": "stream",
     "text": [
      "108\n",
      "178\n"
     ]
    }
   ],
   "source": [
    "\n",
    "x = r'c:\\\\Users\\\\xx498\\\\Desktop\\\\bilibili_download\\\\download\\\\bilibili\\\\付费课程介绍合集 (2023)\\\\Season 01\\\\Unity教程《休闲手机游戏开发》在B站开课啦！一步到位的游戏开发课程 - S01E05 - Unity2021.x全新Visual Scripting可视化编程 | 游戏开发｜Unity中文课堂-thumb.jpg'\n",
    "\n",
    "import os\n",
    "\n",
    "print(len(os.path.basename(x)))\n",
    "print(os.path.basename(x))\n",
    "\n",
    "print(len(\"老婆在家安装100个摄像头，只为证明我真的出轨，结果因为这个节目，我的国士身份渐渐被曝光！《老婆参加节目，我院士身份被曝光》#漫画 #解说 #剧情 #恋爱 #c - S01E01 - 老婆在家安装100个摄像头，只为证明我真的出轨，结果因为这个节目，我的国士身份渐渐被曝光！《老婆参加节目，我院士身份被曝光》#漫画 #解说 #剧情 #恋爱 #c-thumb\"))"
   ]
  }
 ],
 "metadata": {
  "kernelspec": {
   "display_name": "Python 3",
   "language": "python",
   "name": "python3"
  },
  "language_info": {
   "codemirror_mode": {
    "name": "ipython",
    "version": 3
   },
   "file_extension": ".py",
   "mimetype": "text/x-python",
   "name": "python",
   "nbconvert_exporter": "python",
   "pygments_lexer": "ipython3",
   "version": "3.10.2"
  },
  "orig_nbformat": 4
 },
 "nbformat": 4,
 "nbformat_minor": 2
}
